{
 "cells": [
  {
   "cell_type": "code",
   "execution_count": null,
   "metadata": {},
   "outputs": [],
   "source": [
    "import os\n",
    "from tqdm.notebook import tqdm\n",
    "import torch\n",
    "from torch import nn\n",
    "import torch.nn.functional as F\n",
    "from torchvision import transforms\n",
    "from torchvision.utils import make_grid\n",
    "import torch.utils.data as data\n",
    "import pytorch_lightning as pl\n",
    "import matplotlib.pyplot as plt\n",
    "from utils.data_loader import HE_Dataset\n",
    "from copy import deepcopy"
   ]
  },
  {
   "attachments": {},
   "cell_type": "markdown",
   "metadata": {},
   "source": [
    "# Load dataset"
   ]
  },
  {
   "cell_type": "code",
   "execution_count": null,
   "metadata": {},
   "outputs": [],
   "source": [
    "train_dataset = HE_Dataset()\n",
    "train_loader = data.DataLoader(train_dataset, batch_size=32, shuffle=True)\n",
    "\n",
    "test_dataset = HE_Dataset()\n",
    "test_loader = data.DataLoader(test_dataset, batch_size=32)\n",
    "\n",
    "examples = train_dataset[0:16][0]\n",
    "examples = examples.permute(0, 3, 1, 2)\n",
    "grid = make_grid(examples, nrow=4, normalize=True, pad_value=0.5)\n",
    "grid = grid.permute(1, 2, 0)\n",
    "\n",
    "plt.figure(figsize=(8, 8))\n",
    "plt.title(\"PCAM Examples\")\n",
    "plt.imshow(grid)\n",
    "plt.axis(\"off\")\n",
    "plt.show()\n",
    "plt.close()"
   ]
  },
  {
   "cell_type": "code",
   "execution_count": null,
   "metadata": {},
   "outputs": [],
   "source": [
    "class Network(nn.Module):\n",
    "    def __init__(self, f_act, input_size, output_size, hidden_sizes) -> None:\n",
    "        super().__init__()\n",
    "        layers = []\n",
    "        layer_sizes = [input_size] + hidden_sizes\n",
    "        for layer_index in range(1, len(layer_sizes)):\n",
    "            layers += [nn.Linear(layer_sizes[layer_index - 1], layer_sizes[layer_index]), f_act]\n",
    "        layers.append(nn.Linear(hidden_sizes[-1], output_size))\n",
    "        self.layers = nn.Sequential(*layers)\n",
    "        \n",
    "    def forward(self, x):\n",
    "        # x = x.view(x.size(0), -1)\n",
    "        x = x.reshape((x.shape[0], -1))\n",
    "        x = self.layers(x)\n",
    "        return x"
   ]
  },
  {
   "cell_type": "code",
   "execution_count": null,
   "metadata": {},
   "outputs": [],
   "source": [
    "def train(model, data_loader, optimizer, loss_module, device, epochs=100):\n",
    "    model.train()\n",
    "    for epoch in range(epochs):\n",
    "        true_predictions = 0.0\n",
    "        count = 0\n",
    "        best_loss = float('inf')\n",
    "        for x, y in tqdm(data_loader):\n",
    "            x = x.to(device)\n",
    "            y = y.to(device)\n",
    "            y_h = model(x)\n",
    "            # print(y_h.shape, y.shape)\n",
    "            # y_h = y_h.squeeze(dim=1)\n",
    "            loss = loss_module(y_h, y)\n",
    "            if loss < best_loss:\n",
    "                best_loss = loss\n",
    "                best_state = deepcopy(model.state_dict())\n",
    "                best_epoch = epoch\n",
    "            optimizer.zero_grad()\n",
    "            loss.backward()\n",
    "            optimizer.step()\n",
    "    \n",
    "            y_h = (y_h >= 0.5).float()\n",
    "            true_predictions += (y_h == y).sum()\n",
    "            count += y.shape[0]\n",
    "        \n",
    "        train_acc = true_predictions / count\n",
    "        print(f'Epoch {epoch}: Training accuracy = {train_acc}, loss = {loss}')\n",
    "    torch.save(best_state, 'checkpoints/simple_model.tar')\n",
    "    print(f'Best epoch: {best_epoch}')\n",
    "    \n",
    "def test(model, data_loader, device, epochs):\n",
    "    model.eval()\n",
    "    true_predictions = 0.0\n",
    "    count = 0\n",
    "    with torch.no_grad():\n",
    "        for x, y in tqdm(data_loader):\n",
    "            x = x.to(device)\n",
    "            y = y.to(device)\n",
    "            \n",
    "            y_h = model(x)\n",
    "            # print(y.shape, y_h.shape)\n",
    "            # y_h = y_h.squeeze(dim=1)\n",
    "            y_h = torch.sigmoid(y_h)\n",
    "            \n",
    "            y_h = (y_h >= 0.5).float()\n",
    "            true_predictions += (y_h == y).sum()\n",
    "            count += y.shape[0]\n",
    "    \n",
    "    test_acc = true_predictions / count\n",
    "    print(f'Test accuracy after {epochs} epochs = {test_acc}')"
   ]
  },
  {
   "attachments": {},
   "cell_type": "markdown",
   "metadata": {},
   "source": [
    "# Initializing model and params"
   ]
  },
  {
   "cell_type": "code",
   "execution_count": null,
   "metadata": {},
   "outputs": [],
   "source": [
    "device = torch.device(\"cuda\") if torch.cuda.is_available() else torch.device(\"cpu\")\n",
    "print(\"Device: \", device)\n",
    "\n",
    "input_size = 3 * 96 * 96\n",
    "output_size = 1\n",
    "layers = [2048, 1024, 512, 256, 128, 64]\n",
    "epochs = 1\n",
    "lr = 0.01\n",
    "\n",
    "activation = nn.ReLU()\n",
    "model = Network(activation, input_size, output_size, layers)\n",
    "optimizer = torch.optim.SGD(model.parameters(), lr)\n",
    "loss_module = nn.BCEWithLogitsLoss()\n",
    "\n",
    "if os.path.exists('checkpoints/simple_model.tar'):\n",
    "    state_dict = torch.load('checkpoints/simple_model.tar')\n",
    "    model.load_state_dict(state_dict)\n",
    "    print(model)\n",
    "    \n",
    "    model.to(device)\n",
    "    \n",
    "    train(model, train_loader, optimizer, loss_module, device, epochs)\n",
    "    \n",
    "    test(model, test_loader, device, epochs)\n",
    "else:\n",
    "    print('Model checkpoint unavialable')\n",
    "    print(model)\n",
    "\n",
    "    model.to(device)\n",
    "\n",
    "    # Training the model\n",
    "    train(model, train_loader, optimizer, loss_module, device, epochs)\n",
    "\n",
    "    # Testing the model\n",
    "    test(model, test_loader, device, epochs)"
   ]
  },
  {
   "cell_type": "code",
   "execution_count": null,
   "metadata": {},
   "outputs": [],
   "source": []
  }
 ],
 "metadata": {
  "kernelspec": {
   "display_name": "Python 3",
   "language": "python",
   "name": "python3"
  },
  "language_info": {
   "codemirror_mode": {
    "name": "ipython",
    "version": 3
   },
   "file_extension": ".py",
   "mimetype": "text/x-python",
   "name": "python",
   "nbconvert_exporter": "python",
   "pygments_lexer": "ipython3",
   "version": "3.10.5"
  },
  "orig_nbformat": 4
 },
 "nbformat": 4,
 "nbformat_minor": 2
}
